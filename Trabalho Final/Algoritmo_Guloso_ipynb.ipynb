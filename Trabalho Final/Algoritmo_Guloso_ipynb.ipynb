{
  "nbformat": 4,
  "nbformat_minor": 0,
  "metadata": {
    "colab": {
      "name": "Algoritmo Guloso. ipynb",
      "provenance": []
    },
    "kernelspec": {
      "name": "python3",
      "display_name": "Python 3"
    }
  },
  "cells": [
    {
      "cell_type": "code",
      "metadata": {
        "id": "Zp-wVZJNQyP7"
      },
      "source": [
        "from random import random\n",
        "import matplotlib.pyplot as plt\n",
        "import time"
      ],
      "execution_count": null,
      "outputs": []
    },
    {
      "cell_type": "markdown",
      "metadata": {
        "id": "uKJoxB8KAziM"
      },
      "source": [
        "# Algoritmo Guloso"
      ]
    },
    {
      "cell_type": "markdown",
      "metadata": {
        "id": "RPsudk-AA-NA"
      },
      "source": [
        "Primeiro iniciaremos a estrutura de dados que relaciona os produtos, ou seja, inicializaremos a classe dos produtos que será dada por\n",
        "\n",
        "\n",
        "*   Nome;\n",
        "*   Espaço ocupado;\n",
        "*   Valor do produto;\n",
        "*   Razão (valor/espaço).\n",
        "\n",
        "\n",
        "\n"
      ]
    },
    {
      "cell_type": "code",
      "metadata": {
        "id": "F0t7XSFtA_JI"
      },
      "source": [
        "class Produto():\n",
        "    def __init__(self, nome, espaco, valor, razao):\n",
        "        self.nome = nome\n",
        "        self.espaco = espaco\n",
        "        self.valor = valor\n",
        "        self.razao = razao"
      ],
      "execution_count": null,
      "outputs": []
    },
    {
      "cell_type": "markdown",
      "metadata": {
        "id": "JROGtUYtBDRB"
      },
      "source": [
        "Após isso, será inicializamos a main do algoritmo guloso. "
      ]
    },
    {
      "cell_type": "code",
      "metadata": {
        "id": "ZK8H13uACBN-"
      },
      "source": [
        "if __name__ == '__main__':\n",
        "    lista_produtos = []\n",
        "    produtos_selecionados = []\n",
        "    nomes_mostrados = []\n",
        "    valores_mostrados = []\n",
        "    quantidade_mostrada = []\n",
        "    controle_valor = 0\n",
        "    valor = 0\n",
        "    espaco_ocupado = 0\n",
        "    \n",
        "    nome_produto = ['Geladeira Brastemp', 'PS5', 'TV 65', 'Fogão Brastemp', 'Lava louças', 'Ar condicionado',\n",
        "                    'Sofá', 'Conjunto sala de jantar', 'Painel para TV', 'Purificador de água', 'Máquina de lavar roupa',\n",
        "                    'Cama de solteiro', 'Cama de casal', 'Notebook Lenovo', 'Notebook Dell', 'Notebook Acer',\n",
        "                    'Iphone 11', 'Galaxy S20 Ultra', 'Microondas Electrolux', 'Ferro de passar roupa',\n",
        "                    'Aspirador de pó', 'Chuveiro', 'Ventilador', 'Guarda roupa', 'Cafeteira']\n",
        "    \n",
        "    espaco_produto = [1.155, 0.0105, 0.370, 0.516, 0.303, 0.7259, 2.898, 1.152, 1.294, 0.028, 0.518,\n",
        "                      1.278, 2.158, 0.0018, 0.0019, 0.0016, 0.00091, 0.00011, 0.0865, 0.0259, 0.0054,\n",
        "                      0.0107, 0.4, 3.348, 0.0341]\n",
        "    \n",
        "    valor_produto = [4859.10, 4999, 4099, 4859.10, 3999, 3379, 2492.49, 1488.02, 503.39, 1199,\n",
        "                     1899.05, 930.90, 1551.03, 3699, 3899, 3609.05, 4463.07, 5299, 2429.1, 1481.89,\n",
        "                     2165.89, 388.23, 284.90, 1367.90, 3484.19]"
      ],
      "execution_count": null,
      "outputs": []
    },
    {
      "cell_type": "markdown",
      "metadata": {
        "id": "zghitJafCDEP"
      },
      "source": [
        "Armazenaremos a razão, pois será o nosso principal parâmetro de escolha na decisão dos produtos que serão selecionados. Além disso, ordenamos a lista.\n"
      ]
    },
    {
      "cell_type": "code",
      "metadata": {
        "id": "vmD1b7bBCE3y"
      },
      "source": [
        "    controle = 0\n",
        "    dez = 0\n",
        "    \n",
        "    for i in range(250):\n",
        "        razao = valor_produto[controle] / espaco_produto[controle]\n",
        "        lista_produtos.append(Produto(nome_produto[controle], espaco_produto[controle], valor_produto[controle], razao))\n",
        "        dez += 1\n",
        "        if dez == 10:\n",
        "            controle += 1\n",
        "            dez = 0\n",
        "\n",
        "    lista_produtos.sort(key=lambda i: i.razao, reverse = True)"
      ],
      "execution_count": null,
      "outputs": []
    },
    {
      "cell_type": "markdown",
      "metadata": {
        "id": "Ubl-itoLCeef"
      },
      "source": [
        "Definimos a capacidade de carregamento e toda vez que um produto couber, descontamos do espaço total, pois a partir desta atualização teremos controle sobre a quantidade de espaço que ainda poderá ser ocupado.\n",
        "\n",
        "Devemos nos lembrar que o algoritmo guloso não se arrepende de uma escolha, então todas as vezes que compilarmos o programa com os mesmos parâmetros, obteremos o resultado. "
      ]
    },
    {
      "cell_type": "code",
      "metadata": {
        "colab": {
          "base_uri": "https://localhost:8080/"
        },
        "id": "vOYMgyZvBKnY",
        "outputId": "ebd3d746-49d3-48e3-a93e-66cb87481587"
      },
      "source": [
        "    ini = time.time()\n",
        "\n",
        "    limite = 80\n",
        "    \n",
        "    for i in lista_produtos:\n",
        "        if i.espaco < limite:\n",
        "            produtos_selecionados.append(i)\n",
        "            limite -= i.espaco\n",
        "            espaco_ocupado += i.espaco\n",
        "            valor += i.valor\n",
        "        \n",
        "    print('\\nvalor final:', valor)\n",
        "    print('espaco ocupado:', espaco_ocupado)\n",
        "    \n",
        "    quantidade = 0\n",
        "    nome = produtos_selecionados[0].nome\n",
        "    controle_valor = produtos_selecionados[0].valor\n",
        "    \n",
        "    for i in produtos_selecionados:\n",
        "        if nome == i.nome:\n",
        "            quantidade += 1\n",
        "        else:\n",
        "            nomes_mostrados.append(nome)\n",
        "            valores_mostrados.append(controle_valor)\n",
        "            quantidade_mostrada.append(quantidade)\n",
        "            nome = i.nome\n",
        "            quantidade = 1\n",
        "            controle_valor = i.valor\n",
        "    nomes_mostrados.append(nome)\n",
        "    valores_mostrados.append(controle_valor)\n",
        "    quantidade_mostrada.append(quantidade)\n",
        "    \n",
        "    fim = time.time()\n",
        "    print(f'\\nTempo de execução do algoritmo genético: {fim-ini} segundos\\n')\n",
        "    print('\\nQuantidades e produtos que foram selecionados:\\n')\n",
        "    for i in range(len(nomes_mostrados)):\n",
        "        print(\"%s - %s R$%s \" % (quantidade_mostrada[i], \n",
        "                                             nomes_mostrados[i], \n",
        "                                             valores_mostrados[i]))"
      ],
      "execution_count": null,
      "outputs": [
        {
          "output_type": "stream",
          "text": [
            "\n",
            "valor final: 642842.7000000001\n",
            "espaco ocupado: 79.73120000000003\n",
            "\n",
            "Tempo de execução do algoritmo genético: 0.0014636516571044922 segundos\n",
            "\n",
            "\n",
            "Quantidades e produtos que foram selecionados:\n",
            "\n",
            "10 - Galaxy S20 Ultra R$5299 \n",
            "10 - Iphone 11 R$4463.07 \n",
            "10 - Notebook Acer R$3609.05 \n",
            "10 - Notebook Lenovo R$3699 \n",
            "10 - Notebook Dell R$3899 \n",
            "10 - PS5 R$4999 \n",
            "10 - Aspirador de pó R$2165.89 \n",
            "10 - Cafeteira R$3484.19 \n",
            "10 - Ferro de passar roupa R$1481.89 \n",
            "10 - Purificador de água R$1199 \n",
            "10 - Chuveiro R$388.23 \n",
            "10 - Microondas Electrolux R$2429.1 \n",
            "10 - Lava louças R$3999 \n",
            "10 - TV 65 R$4099 \n",
            "10 - Fogão Brastemp R$4859.1 \n",
            "10 - Ar condicionado R$3379 \n",
            "10 - Geladeira Brastemp R$4859.1 \n",
            "10 - Máquina de lavar roupa R$1899.05 \n",
            "10 - Conjunto sala de jantar R$1488.02 \n",
            "10 - Sofá R$2492.49 \n",
            "1 - Cama de solteiro R$930.9 \n"
          ],
          "name": "stdout"
        }
      ]
    }
  ]
}
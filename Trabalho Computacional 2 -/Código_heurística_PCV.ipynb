{
  "nbformat": 4,
  "nbformat_minor": 0,
  "metadata": {
    "colab": {
      "name": "Código heurística - PCV",
      "provenance": []
    },
    "kernelspec": {
      "name": "python3",
      "display_name": "Python 3"
    }
  },
  "cells": [
    {
      "cell_type": "markdown",
      "metadata": {
        "id": "uXUpHEq6EUK4"
      },
      "source": [
        "# ***Código - Problema do Caixeiro Viajante***"
      ]
    },
    {
      "cell_type": "code",
      "metadata": {
        "id": "aNWXo9n7OnzU"
      },
      "source": [
        "import time"
      ],
      "execution_count": null,
      "outputs": []
    },
    {
      "cell_type": "markdown",
      "metadata": {
        "id": "eRDtRSi2EkO_"
      },
      "source": [
        "*Inicialmente criaremos a matriz que armazenará todas as informações da distância entre cada cidade (dois a dois)*"
      ]
    },
    {
      "cell_type": "code",
      "metadata": {
        "id": "Hecu92IlboWI"
      },
      "source": [
        "valores = [] #Matriz que armazenará os dados \n",
        "soma = 0 #Caminho percorrido\n",
        "caminho =[] #Salvará as cidades visitadas"
      ],
      "execution_count": null,
      "outputs": []
    },
    {
      "cell_type": "markdown",
      "metadata": {
        "id": "qTjvKXgEEi1F"
      },
      "source": [
        "*Leitura do dados em formato de inteiros*"
      ]
    },
    {
      "cell_type": "code",
      "metadata": {
        "id": "cOG6_Ci_EJcB",
        "colab": {
          "base_uri": "https://localhost:8080/",
          "height": 231
        },
        "outputId": "00dad06a-0ffc-4fc7-916b-c315a2cccd77"
      },
      "source": [
        "with open('26 cidades.txt', 'r') as f:\n",
        "    for line in f.readlines():\n",
        "      vet = line.split('  ')\n",
        "      results=[]\n",
        "      valores.append(results)\n",
        "      for i in range(len(vet)):\n",
        "        vet[i]=int(float(vet[i]))\n",
        "        results.append(vet[i])"
      ],
      "execution_count": null,
      "outputs": [
        {
          "output_type": "error",
          "ename": "FileNotFoundError",
          "evalue": "ignored",
          "traceback": [
            "\u001b[0;31m---------------------------------------------------------------------------\u001b[0m",
            "\u001b[0;31mFileNotFoundError\u001b[0m                         Traceback (most recent call last)",
            "\u001b[0;32m<ipython-input-3-8888a528dd75>\u001b[0m in \u001b[0;36m<module>\u001b[0;34m()\u001b[0m\n\u001b[0;32m----> 1\u001b[0;31m \u001b[0;32mwith\u001b[0m \u001b[0mopen\u001b[0m\u001b[0;34m(\u001b[0m\u001b[0;34m'26 cidades.txt'\u001b[0m\u001b[0;34m,\u001b[0m \u001b[0;34m'r'\u001b[0m\u001b[0;34m)\u001b[0m \u001b[0;32mas\u001b[0m \u001b[0mf\u001b[0m\u001b[0;34m:\u001b[0m\u001b[0;34m\u001b[0m\u001b[0;34m\u001b[0m\u001b[0m\n\u001b[0m\u001b[1;32m      2\u001b[0m     \u001b[0;32mfor\u001b[0m \u001b[0mline\u001b[0m \u001b[0;32min\u001b[0m \u001b[0mf\u001b[0m\u001b[0;34m.\u001b[0m\u001b[0mreadlines\u001b[0m\u001b[0;34m(\u001b[0m\u001b[0;34m)\u001b[0m\u001b[0;34m:\u001b[0m\u001b[0;34m\u001b[0m\u001b[0;34m\u001b[0m\u001b[0m\n\u001b[1;32m      3\u001b[0m       \u001b[0mvet\u001b[0m \u001b[0;34m=\u001b[0m \u001b[0mline\u001b[0m\u001b[0;34m.\u001b[0m\u001b[0msplit\u001b[0m\u001b[0;34m(\u001b[0m\u001b[0;34m'  '\u001b[0m\u001b[0;34m)\u001b[0m\u001b[0;34m\u001b[0m\u001b[0;34m\u001b[0m\u001b[0m\n\u001b[1;32m      4\u001b[0m       \u001b[0mresults\u001b[0m\u001b[0;34m=\u001b[0m\u001b[0;34m[\u001b[0m\u001b[0;34m]\u001b[0m\u001b[0;34m\u001b[0m\u001b[0;34m\u001b[0m\u001b[0m\n\u001b[1;32m      5\u001b[0m       \u001b[0mvalores\u001b[0m\u001b[0;34m.\u001b[0m\u001b[0mappend\u001b[0m\u001b[0;34m(\u001b[0m\u001b[0mresults\u001b[0m\u001b[0;34m)\u001b[0m\u001b[0;34m\u001b[0m\u001b[0;34m\u001b[0m\u001b[0m\n",
            "\u001b[0;31mFileNotFoundError\u001b[0m: [Errno 2] No such file or directory: '26 cidades.txt'"
          ]
        }
      ]
    },
    {
      "cell_type": "markdown",
      "metadata": {
        "id": "9lqQwDOVGy8J"
      },
      "source": [
        "*Dados importantes para o funcionamento da ideia heurística*:\n",
        "\n",
        "- A coluna de cada matriz representa a cidade em que o caixeiro viajante se encontra;\n",
        "- A linha é a cidade que o caixeiro viajante irá; \n",
        "- Jamais irá para um cidade que possui um marcador, pois aquela cidade já foi visitada;\n",
        "- Quando todas as cidades já tiverem sido visitadas, retornará a cidade origem"
      ]
    },
    {
      "cell_type": "code",
      "metadata": {
        "id": "u9WcqnwAF1mB"
      },
      "source": [
        "tamanho = len(valores) #Tamanho do vetor de cada linha da matriz\n",
        "\n",
        "\"\"\"\n",
        "for l in range(tamanho): #Caso queira imprimir as matrizes a cada visita em uma nova cidade \n",
        "   print(valores[l])\n",
        "\"\"\"\n",
        "\n",
        "substitui = [] #Matrizes que serão preenchidas com -1 (marcador de que a cidade já foi visitada);\n",
        "for i in range(tamanho):\n",
        "    substitui.append(-1)\n",
        " \n",
        "linha_controle = 0 #Salvará a linha da cidade em que teremos que ir, pois está possuirá a menor distância;\n",
        "c = 0 #Cidade origem, ou seja, neste caso estamos iniciando na cidade 0 (coluna 0);\n",
        "saltos = 0 #Quantidade de cidades que precisaremos visitar, partindo da cidade origem, temos n-1 cidades inicialmente."
      ],
      "execution_count": null,
      "outputs": []
    },
    {
      "cell_type": "markdown",
      "metadata": {
        "id": "8KwS1qkmJDqs"
      },
      "source": [
        "*Esses laços são responsáveis por organizar a viagem, ou seja, irão alterar a matriz distância e salvar dados importantes*"
      ]
    },
    {
      "cell_type": "code",
      "metadata": {
        "id": "JdGkhNPoJEbj"
      },
      "source": [
        "ini1=time.time() #Inicialização do primeiro contador de tempo\n",
        "while saltos < tamanho-1:\n",
        "    menor = 100000 \n",
        "    for l in range(tamanho):\n",
        "        if menor > int(valores[l][c]) and int(valores[l][c]) > 0: #Verificando qual é a menor distância na coluna (a cidade cuja a distância seja a menor possível) \n",
        "            menor = valores[l][c] #salva a distância do percurso\n",
        "            linha_controle = l #salva a linha, ou seja, a próxima cidade que será visitada\n",
        "    caminho.append(c) #Adiciona a cidade visita\n",
        "    valores[c] = substitui.copy() #Marca que a cidade já foi visitada\n",
        "    c = linha_controle #A próxima cidade que será visitada será a nova coluna c\n",
        "    saltos += 1 #atualiza o salto\n",
        "    #print('A menor distância é:', menor)\n",
        "    soma += menor #Armazenamos a distância percorrida\n",
        "fim1=time.time() #Finalização do primeiro contador de tempo\n",
        "tot1=fim1-ini1 #Atribuição do tempo total 1"
      ],
      "execution_count": null,
      "outputs": []
    },
    {
      "cell_type": "markdown",
      "metadata": {
        "id": "4WucFjpLK0W2"
      },
      "source": [
        "*Quando tivermos passado por todas as cidades, precisaremos retornar a cidade origem. Para isso verificaremos qual é está distância para que possamos armazenar este valor também.*"
      ]
    },
    {
      "cell_type": "code",
      "metadata": {
        "colab": {
          "base_uri": "https://localhost:8080/"
        },
        "id": "0XruLZAmEP3Q",
        "outputId": "49482603-0c25-4c39-bd85-e3210dd4b34f"
      },
      "source": [
        "ini2=time.time() #Inicialização do segundo contador de tempo\n",
        "ultimo=100000\n",
        "for l in range(tamanho):\n",
        "  \"\"\"\n",
        "  Retornaremos a cidade origem, neste momento,n-1 linhas estarão preenchidas com o marcador -1,\n",
        "  então terá apenas uma posição em que o valor será maior que 0, ou seja, exatamente \n",
        "  o valor que precisaremos para encontrar a distância.\n",
        "  Como sabemos que a cidade origem está na coluna 0, então basta percorre-lá até encontrar a distância.  \n",
        "  \"\"\"\n",
        "  if ultimo > int(valores[l][0]) and int(valores[l][0]) > 0:\n",
        "    ultimo=int(valores[l][0])\n",
        "    c=l\n",
        "\n",
        "caminho.append(c)\n",
        "#print('Distância para origem:',ultimo)\n",
        "soma +=ultimo #Armazeno a distância da cidade em que o caixeiro enconra-se até a cidade origem\n",
        "fim2=time.time() #Finalização do segundo contador de tempo\n",
        "tot2=fim2-ini2 #Atribuição do tempo total 2\n",
        "print(caminho)\n",
        "print('Resultado final:', soma)\n",
        "print(f'Tempo de execução: {tot1+tot2} segundos')"
      ],
      "execution_count": null,
      "outputs": [
        {
          "output_type": "stream",
          "text": [
            "[0, 14, 13, 9, 10, 12, 11, 8, 6, 7, 15, 18, 19, 17, 16, 20, 21, 25, 22, 23, 24, 2, 1, 3, 4, 5]\n",
            "Resultado final: 1112\n",
            "Tempo de execução: 0.00046634674072265625 segundos\n"
          ],
          "name": "stdout"
        }
      ]
    }
  ]
}
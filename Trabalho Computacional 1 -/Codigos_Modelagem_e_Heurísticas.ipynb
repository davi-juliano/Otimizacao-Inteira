{
  "nbformat": 4,
  "nbformat_minor": 0,
  "metadata": {
    "colab": {
      "name": "Codigos - Modelagem e Heurísticas ",
      "provenance": [],
      "collapsed_sections": []
    },
    "kernelspec": {
      "name": "python3",
      "display_name": "Python 3"
    }
  },
  "cells": [
    {
      "cell_type": "code",
      "metadata": {
        "colab": {
          "base_uri": "https://localhost:8080/"
        },
        "id": "vEe6Mn5Z8_Jq",
        "outputId": "21ba1194-8de4-478f-f422-6587df09e349"
      },
      "source": [
        "%pip install numpy\n",
        "%pip install pulp"
      ],
      "execution_count": null,
      "outputs": [
        {
          "output_type": "stream",
          "text": [
            "Collecting pulp\n",
            "\u001b[?25l  Downloading https://files.pythonhosted.org/packages/14/c4/0eec14a0123209c261de6ff154ef3be5cad3fd557c084f468356662e0585/PuLP-2.4-py3-none-any.whl (40.6MB)\n",
            "\u001b[K     |████████████████████████████████| 40.6MB 100kB/s \n",
            "\u001b[?25hCollecting amply>=0.1.2\n",
            "  Downloading https://files.pythonhosted.org/packages/f3/c5/dfa09dd2595a2ab2ab4e6fa7bebef9565812722e1980d04b0edce5032066/amply-0.1.4-py3-none-any.whl\n",
            "Requirement already satisfied: pyparsing in /usr/local/lib/python3.6/dist-packages (from amply>=0.1.2->pulp) (2.4.7)\n",
            "Requirement already satisfied: docutils>=0.3 in /usr/local/lib/python3.6/dist-packages (from amply>=0.1.2->pulp) (0.16)\n",
            "Installing collected packages: amply, pulp\n",
            "Successfully installed amply-0.1.4 pulp-2.4\n"
          ],
          "name": "stdout"
        }
      ]
    },
    {
      "cell_type": "code",
      "metadata": {
        "id": "2nn3ZVNqNGi6"
      },
      "source": [
        "import numpy as np\n",
        "import pulp #Importar a biblioteca de modelagem\n",
        "import random #Importações do Python\n",
        "import time"
      ],
      "execution_count": null,
      "outputs": []
    },
    {
      "cell_type": "markdown",
      "metadata": {
        "id": "O8dY4bW-78Uq"
      },
      "source": [
        " # **Modelagem Matemática**"
      ]
    },
    {
      "cell_type": "markdown",
      "metadata": {
        "id": "_3fHK-C78Bzc"
      },
      "source": [
        "A Modelagem matemática está descrita no documento apresentado. A função que define a modelagem é dada abaixo:"
      ]
    },
    {
      "cell_type": "code",
      "metadata": {
        "id": "8YFISRd18T4Q"
      },
      "source": [
        "def BPP_model(items):\n",
        "  itemCount = len(items)\n",
        "\n",
        "  # Número Máximo de Bins\n",
        "  maxBins = itemCount\n",
        "\n",
        "  # Volume dos Bins\n",
        "  binCapacity = 1000\n",
        "\n",
        "  # Definições das Variáveis de Decisão\n",
        "  y = pulp.LpVariable.dicts('BinUsado', range(maxBins),\n",
        "                            lowBound = 0,\n",
        "                            upBound = 1,\n",
        "                            cat = LpInteger)\n",
        "  possible_ItemInBin = [(itemTuple[0], binNum) for itemTuple in items\n",
        "                                            for binNum in range(maxBins)]\n",
        "  x = pulp.LpVariable.dicts('ItemNoBin', possible_ItemInBin,\n",
        "                            lowBound = 0,\n",
        "                            upBound = 1,\n",
        "                            cat = LpInteger)\n",
        "\n",
        "\n",
        "  # Inicializando o problema.\n",
        "  prob = LpProblem(\"Trabalho Computacional 1 - Bin Packing Problem\", LpMinimize)\n",
        "\n",
        "  # Adicionando a função objetivo.\n",
        "  prob += lpSum([y[i] for i in range(maxBins)]), \"Objetivo: Minimizar a quantidade de bins\"\n",
        "\n",
        "  # Primeira Restrição: Para todo item, a soma dos bins que ele aparece deve ser 1.\n",
        "  for j in items:\n",
        "    prob += lpSum([x[(j[0], i)] for i in range(maxBins)]) == 1, (\"Cada item só pode estar em 1 Bin -- \" + str(j[0]))\n",
        "\n",
        "  # Segunda Restrição:Para todo Bin, o número do volume dos itens dentro do bin deve ser menor que o volume do bin.\n",
        "  for i in range(maxBins):\n",
        "    prob += lpSum([items[j][1] * x[(items[j][0], i)] for j in range(itemCount)]) <= binCapacity*y[i], (\"A soma dos volumes dos objetos deve ser menor que a do Bin -- \" + str(i))\n",
        "\n",
        "  # Escrevendo o modelo num arquivo .lp\n",
        "  prob.writeLP(\"BinPack.lp\")\n",
        "\n",
        "  # Começaremos a contar o tempo da solução\n",
        "  start_time = time.time()\n",
        "\n",
        "  # Resolvendo o problema\n",
        "  prob.solve(use_mps=False)\n",
        "  \n",
        "  print(\"Bins utilizados: \" + str(sum(([y[i].value() for i in range(maxBins)]))))\n",
        "  print(\"Resolvido em %s segundos.\" % (time.time() - start_time))"
      ],
      "execution_count": null,
      "outputs": []
    },
    {
      "cell_type": "markdown",
      "metadata": {
        "id": "jmGZnwev9E3n"
      },
      "source": [
        "Não foi testado o modelo matemático para as instâncias abaixo porque como o BPP é NP-Hard, para uma quantidade de 200 objetos, o problema segue um nivel fatorial, portanto não pode ser resolvido em tempo polinomial."
      ]
    },
    {
      "cell_type": "markdown",
      "metadata": {
        "id": "clJik7QjNO4i"
      },
      "source": [
        "# **Métodos das Heurísticas**"
      ]
    },
    {
      "cell_type": "markdown",
      "metadata": {
        "id": "Jp83PinPNHRu"
      },
      "source": [
        "Para resolver o BPP, foi instaurado que utilizariamos uma função definida como a objetivo (sendo essa a função minimiza) e outras duas heurísticas combinadas com a função objetivo.\n",
        "\n",
        "\n",
        "\n",
        "\n",
        "\n",
        "\n",
        "\n"
      ]
    },
    {
      "cell_type": "code",
      "metadata": {
        "id": "mn1nFIJr1vV1"
      },
      "source": [
        "def func_minimiza(qnt_obj, Volume_obj, Volume_rec): \n",
        "    \n",
        "    for j in range(qnt_obj):  #Verifica se os objetos cabem no recipiente.\n",
        "      if Volume_obj[j]>Volume_rec:\n",
        "        print('\\n')\n",
        "        print(f'Um dos objetos não cabem no recipiente de volume {Volume_rec}')\n",
        "        return qnt_recipientes  \n",
        "    \n",
        "      Aux_volume_rec = Volume_rec\n",
        "      qnt_recipientes = 1 \n",
        "      for i in range(qnt_obj): \n",
        "        if Aux_volume_rec >= Volume_obj[i]: \n",
        "          Aux_volume_rec = Aux_volume_rec - Volume_obj[i] \n",
        "        else: \n",
        "          qnt_recipientes += 1\n",
        "          Aux_volume_rec = Volume_rec - Volume_obj[i] \n",
        "    return qnt_recipientes"
      ],
      "execution_count": null,
      "outputs": []
    },
    {
      "cell_type": "markdown",
      "metadata": {
        "id": "YKL3ieYmOxpf"
      },
      "source": [
        "A **primeira heurística** tem por seu interesse tomar um vetor de n objetos com volumes distintos e gerar, aleatoriamente, para a função minimiza. Ou seja, ele bagunça o vetor de objetos para encontrar uma boa solução."
      ]
    },
    {
      "cell_type": "code",
      "metadata": {
        "id": "TCoi_WvPc5_p"
      },
      "source": [
        "def OTM_shuffle(qnt_entradas, Volume_dos_obj, V):\n",
        "  k=0\n",
        "  melhor_sol = 1000000\n",
        "\n",
        "  ini = time.time()\n",
        "  while k<10:\n",
        "    k +=1\n",
        "    random.shuffle(Volume_dos_obj) #Embaralha o vetor\n",
        "    sol = func_minimiza(qnt_entradas, Volume_dos_obj, V)\n",
        "    #print(f'{Volume_dos_obj}: {sol}') Imprime as soluções geradas\n",
        "    if sol < melhor_sol:\n",
        "      melhor_sol = sol\n",
        "  fim = time.time()\n",
        "\n",
        "  print(f'A melhor solução encontrada foi {melhor_sol}')\n",
        "  print(f'Tempo de execução com k = {k} : {fim-ini} segundos')"
      ],
      "execution_count": null,
      "outputs": []
    },
    {
      "cell_type": "markdown",
      "metadata": {
        "id": "IkzpzGthO3pv"
      },
      "source": [
        "A **segunda heurística** tem por seu interesse ordenar esse vetor decrescentemente e combinar seus valores na função minimiza para encontrar a boa solução."
      ]
    },
    {
      "cell_type": "code",
      "metadata": {
        "id": "p7a5bQw0dtkP"
      },
      "source": [
        "def OTM_decresce(qnt_entradas, Volume_dos_obj, V):\n",
        "  ini = time.time()\n",
        "  Volume_dos_obj.sort(reverse=True)\n",
        "  sol = func_minimiza(qnt_entradas, Volume_dos_obj, V)\n",
        "  #print(f'{Volume_dos_obj}: {sol}') Imprime as soluções geradas\n",
        "\n",
        "  fim = time.time()\n",
        "  print(f'A melhor solução encontrada foi {sol}')\n",
        "  print(f'Tempo de execução: {fim-ini} segundos')"
      ],
      "execution_count": null,
      "outputs": []
    },
    {
      "cell_type": "markdown",
      "metadata": {
        "id": "gvoZKJOAQFb9"
      },
      "source": [
        "# **Primeiro exemplo**"
      ]
    },
    {
      "cell_type": "markdown",
      "metadata": {
        "id": "DJwzizBYQI-W"
      },
      "source": [
        "Testamos o código para um vetor finito de 14 elementos, para depois aplicarmos nas instâncias de 160 a 200 elementos."
      ]
    },
    {
      "cell_type": "code",
      "metadata": {
        "id": "Mdt6pnM612jl"
      },
      "source": [
        "Volume_dos_obj =[1,5,4,7,2,3,8,1,5,4,7,2,3,8]\n",
        "qnt_entradas=len(Volume_dos_obj)\n",
        "V=10\n",
        "\n",
        "OTM_shuffle(qnt_entradas, Volume_dos_obj, V)"
      ],
      "execution_count": null,
      "outputs": []
    },
    {
      "cell_type": "code",
      "metadata": {
        "colab": {
          "base_uri": "https://localhost:8080/"
        },
        "id": "ifPN1TfS141j",
        "outputId": "646ae3bc-27e8-44be-f9b8-453488669072"
      },
      "source": [
        "Volume_dos_obj =[1,5,4,7,2,3,8,1,5,4,7,2,3,8,]\n",
        "qnt_entradas=len(Volume_dos_obj)\n",
        "V=10\n",
        "\n",
        "OTM_decresce(qnt_entradas, Volume_dos_obj, V)"
      ],
      "execution_count": null,
      "outputs": [
        {
          "output_type": "stream",
          "text": [
            "A melhor solução encontrada foi 8\n",
            "Tempo de execução: 4.792213439941406e-05 segundos\n"
          ],
          "name": "stdout"
        }
      ]
    },
    {
      "cell_type": "markdown",
      "metadata": {
        "id": "2Pxg9YzgPZo3"
      },
      "source": [
        "# **Exemplos de Instâncias:**"
      ]
    },
    {
      "cell_type": "markdown",
      "metadata": {
        "id": "cPIAiWPoPiA2"
      },
      "source": [
        "As instâncias são dadas pelo J.E. Schoenfield in Fast, exact solution of open bin packing problems without linear programming. Technical report, US Army Space and Missile Defense Command, Huntsville, Alabama, USA, 2002.\n",
        "\n",
        "Eis alguns exemplos de instâncias abaixo dada na listas:"
      ]
    },
    {
      "cell_type": "code",
      "metadata": {
        "id": "txZn5mq4R9QZ"
      },
      "source": [
        "#Hard BPP 40\n",
        "Inst_1 = [789,787,786,781,777,774,773,770,763,763,757,753,748,727,726,716,707,703,700,695,681,676,676,675,675,664,661,654,654,649,645,639,626,620,613,612,605,605,601,689,586,577,562,561,548,536,523,511,\n",
        "500,498,98,493,488,484,484,483,482,478,464,461,461,458,438,436,434,431,420,419,416,415,414,413,410,400,393,385,373,373,372,369,351,351,342,321,320,320,317,313,307,301,300,299,288,275,270,267,260,257,256,253,253,248,\n",
        "237,234,227,216,214,208,202,192,191,188,173,169,164,160,155,151,145,140,131,130,127,124,117,116,108,108,107,106,97,94,92,86,80,77,76,75,73,73,70,67,62,59,54,53,50,50,49,48,46,41,40,40,32,29,28,27,24,19]\n",
        "\n",
        "#Hard BPP 60\n",
        "Inst_2 = [696,690,687,681,679,679,678,677,676,675,665,658,651,651,650,645,645,644,642,640,640,636,635,631,630,629,616,610,609,607,598,596,595,589,579,578,574,571,570,559,556,555,553,551,545,536,534,530,\n",
        "530,522,514,510,503,501,496,493,493,491,488,487,482,476,471,470,465,460,456,455,454,454,451,444,442,440,439,436,435,434,428,427,424,420,408,403,403,394,391,385,382,377,377,374,365,357,357,355,341,329,328,328,327,318,\n",
        "312,300,297,294,291,290,284,281,277,277,265,257,248,245,244,242,236,230,227,225,201,196,191,172,165,164,160,158,157,154,146,145,145,141,139,136,128,126,123,123,120,116,111,109,108,105,105,101,90,88,88,85,80,77,72,\n",
        "65,64,53]\n",
        "\n",
        "#Hard BPP 144\n",
        "Inst_3 = [699,699,696,694,693,692,691,690,689,688,682,681,679,679,673,673,671,664,662,661,655,652,649,646,640,638,618,617,602,590,587,586,586,584,582,568,567,563,560,558,553,548,539,539,536,536,532,532,\n",
        "529,526,526,522,521,517,516,514,513,510,507,505,502,498,495,493,491,485,482,477,475,474,465,456,454,453,450,442,441,440,439,437,437,434,424,422,419,415,407,404,401,399,395,395,393,391,386,384,382,381,368,354,353,348,\n",
        "44,343,343,343,336,336,328,328,324,324,321,319,319,304,302,301,300,296,295,284,281,280,279,275,275,271,267,260,257,253,248,245,243,239,238,238,237,233,226,225,222,222,218,217,216,216,212,211,206,204,201,197,189,188,187,\n",
        "186,181,176,173,167,165,163,158,153,146,146,142,135,127,126,124,119,115,115,114,107,105,104,96,96,94,94,79,61,55,54,44,44,33,31,28,28,18,15,15,12,11]\n",
        "\n",
        "#Hard BPP 178\n",
        "Inst_4 = [794,793,790,786,772,764,756,743,742,740,740,736,736,732,724,724,723,713,712,709,704,703,700,699,692,691,691,678,677,673,667,662,662,659,658,646,644,640,637,635,633,629,628,625,622,617,613,612,608,\n",
        "608,605,602,595,595,583,580,572,568,558,541,535,531,523,521,519,518,518,518,517,517,515,512,509,506,506,504,494,487,487,485,482,476,471,469,468,466,462,459,447,446,443,436,431,423,423,419,416,415,408,407,400,399,396,395,\n",
        "387,371,370,370,369,365,363,360,355,354,347,346,345,337,336,334,328,321,313,312,292,278,278,276,275,266,257,254,252,250,250,249,246,242,240,233,233,232,226,223,221,220,214,213,212,210,209,208,196,196,189,185,185,184,181,\n",
        "179,174,171,170,168,166,164,157,147,146,141,133,123,120,119,116,116,104,103,102,99,94,93,72,66,61,61,61,59,55,51,50,45,44,41,36,21,9,7,4,1]\n"
      ],
      "execution_count": null,
      "outputs": []
    },
    {
      "cell_type": "markdown",
      "metadata": {
        "id": "Q5qGm3D1bP4u"
      },
      "source": [
        "#**Calculando Instâncias:**"
      ]
    },
    {
      "cell_type": "markdown",
      "metadata": {
        "id": "CooZb6TAPPo4"
      },
      "source": [
        "Para ambas heurísticas, há uma melhor solução na primeira heurística. Para a análise de complexidade do método, temos que ambas estão na mesma quantidade de tempo, oscilando entre a primeira e a segunda heurística."
      ]
    },
    {
      "cell_type": "code",
      "metadata": {
        "colab": {
          "base_uri": "https://localhost:8080/"
        },
        "id": "hn0SCGVGcWPI",
        "outputId": "8e9cc387-d202-4af7-8d1d-28501265deef"
      },
      "source": [
        "with open('Hard28_BPP13.txt', 'r') as f:\n",
        "    results = [int(line) for line in f.readlines()]\n",
        "    \n",
        "\n",
        "qnt_entradas = results[0]\n",
        "results.remove(results[0])\n",
        "results.remove(1000)\n",
        "Inst_1 = results\n",
        "\n",
        "OTM_shuffle(qnt_entradas, Inst_1, 1000)\n",
        "print('\\n')\n",
        "OTM_decresce(qnt_entradas, Inst_1, 1000)"
      ],
      "execution_count": null,
      "outputs": [
        {
          "output_type": "stream",
          "text": [
            "A melhor solução encontrada foi 88\n",
            "Tempo de execução com k = 10 : 0.03365731239318848 segundos\n",
            "\n",
            "\n",
            "A melhor solução encontrada foi 96\n",
            "Tempo de execução: 0.004384040832519531 segundos\n"
          ],
          "name": "stdout"
        }
      ]
    },
    {
      "cell_type": "code",
      "metadata": {
        "colab": {
          "base_uri": "https://localhost:8080/"
        },
        "id": "SGYxc-8XcYUL",
        "outputId": "74cd95ac-7940-4166-ee70-24b6b2afcd68"
      },
      "source": [
        "with open('Hard28_BPP40.txt', 'r') as f:\n",
        "    results = [int(line) for line in f.readlines()]\n",
        "    #print(results)\n",
        "\n",
        "qnt_entradas = results[0]\n",
        "results.remove(results[0])\n",
        "results.remove(1000)\n",
        "#print(results)\n",
        "Inst_2 = results\n",
        "\n",
        "OTM_shuffle(qnt_entradas, Inst_2, 1000)\n",
        "print('\\n')\n",
        "OTM_decresce(qnt_entradas, Inst_2, 1000)"
      ],
      "execution_count": null,
      "outputs": [
        {
          "output_type": "stream",
          "text": [
            "A melhor solução encontrada foi 75\n",
            "Tempo de execução com k = 10 : 0.02648329734802246 segundos\n",
            "\n",
            "\n",
            "A melhor solução encontrada foi 79\n",
            "Tempo de execução: 0.0026025772094726562 segundos\n"
          ],
          "name": "stdout"
        }
      ]
    },
    {
      "cell_type": "code",
      "metadata": {
        "colab": {
          "base_uri": "https://localhost:8080/"
        },
        "id": "D38wG6r6ci0l",
        "outputId": "9a4483c6-9065-4507-c74d-794edbf72543"
      },
      "source": [
        "with open('Hard28_BPP60.txt', 'r') as f:\n",
        "    results = [int(line) for line in f.readlines()]\n",
        "    #print(results)\n",
        "\n",
        "qnt_entradas = results[0]\n",
        "results.remove(results[0])\n",
        "results.remove(1000)\n",
        "#print(results)\n",
        "Inst_3 = results\n",
        "\n",
        "OTM_shuffle(qnt_entradas, Inst_3, 1000)\n",
        "print('\\n')\n",
        "OTM_decresce(qnt_entradas, Inst_3, 1000)"
      ],
      "execution_count": null,
      "outputs": [
        {
          "output_type": "stream",
          "text": [
            "A melhor solução encontrada foi 83\n",
            "Tempo de execução com k = 10 : 0.0281829833984375 segundos\n",
            "\n",
            "\n",
            "A melhor solução encontrada foi 88\n",
            "Tempo de execução: 0.0025620460510253906 segundos\n"
          ],
          "name": "stdout"
        }
      ]
    },
    {
      "cell_type": "code",
      "metadata": {
        "colab": {
          "base_uri": "https://localhost:8080/"
        },
        "id": "O5en7k0scqP2",
        "outputId": "8a700c2b-f105-4622-8369-65a566516c88"
      },
      "source": [
        "with open('Hard28_BPP144.txt', 'r') as f:\n",
        "    results = [int(line) for line in f.readlines()]\n",
        "    #print(results)\n",
        "\n",
        "qnt_entradas = results[0]\n",
        "results.remove(results[0])\n",
        "results.remove(1000)\n",
        "#print(results)\n",
        "Inst_4 = results\n",
        "\n",
        "OTM_shuffle(qnt_entradas, Inst_4, 1000)\n",
        "print('\\n')\n",
        "OTM_decresce(qnt_entradas, Inst_4, 1000)"
      ],
      "execution_count": null,
      "outputs": [
        {
          "output_type": "stream",
          "text": [
            "A melhor solução encontrada foi 95\n",
            "Tempo de execução com k = 10 : 0.04409337043762207 segundos\n",
            "\n",
            "\n",
            "A melhor solução encontrada foi 103\n",
            "Tempo de execução: 0.003972768783569336 segundos\n"
          ],
          "name": "stdout"
        }
      ]
    },
    {
      "cell_type": "code",
      "metadata": {
        "id": "1qvLqOoIcv8v",
        "colab": {
          "base_uri": "https://localhost:8080/"
        },
        "outputId": "6f5060d5-b687-4f57-fc44-1f675af79c56"
      },
      "source": [
        "with open('Hard28_BPP178.txt', 'r') as f:\n",
        "    results = [int(line) for line in f.readlines()]\n",
        "    #print(results)\n",
        "\n",
        "qnt_entradas = results[0]\n",
        "results.remove(results[0])\n",
        "results.remove(1000)\n",
        "#print(results)\n",
        "Inst_5 = results\n",
        "\n",
        "OTM_shuffle(qnt_entradas, Inst_5, 1000)\n",
        "print('\\n')\n",
        "OTM_decresce(qnt_entradas, Inst_5, 1000)"
      ],
      "execution_count": null,
      "outputs": [
        {
          "output_type": "stream",
          "text": [
            "A melhor solução encontrada foi 106\n",
            "Tempo de execução com k = 10 : 0.0444636344909668 segundos\n",
            "\n",
            "\n",
            "A melhor solução encontrada foi 113\n",
            "Tempo de execução: 0.003900766372680664 segundos\n"
          ],
          "name": "stdout"
        }
      ]
    },
    {
      "cell_type": "code",
      "metadata": {
        "id": "s_iwwFQIVHQ-",
        "colab": {
          "base_uri": "https://localhost:8080/"
        },
        "outputId": "99853854-e7fc-474a-85f6-5ddffc8ff817"
      },
      "source": [
        "with open('Hard28_BPP14.txt', 'r') as f:\n",
        "    results = [int(line) for line in f.readlines()]\n",
        "    #print(results)\n",
        "\n",
        "qnt_entradas = results[0]\n",
        "results.remove(results[0])\n",
        "results.remove(1000)\n",
        "#print(results)\n",
        "Inst_6 = results\n",
        "\n",
        "OTM_shuffle(qnt_entradas, Inst_6, 1000)\n",
        "print('\\n')\n",
        "OTM_decresce(qnt_entradas, Inst_6, 1000)"
      ],
      "execution_count": null,
      "outputs": [
        {
          "output_type": "stream",
          "text": [
            "A melhor solução encontrada foi 78\n",
            "Tempo de execução com k = 10 : 0.03149151802062988 segundos\n",
            "\n",
            "\n",
            "A melhor solução encontrada foi 86\n",
            "Tempo de execução: 0.0038788318634033203 segundos\n"
          ],
          "name": "stdout"
        }
      ]
    },
    {
      "cell_type": "code",
      "metadata": {
        "id": "ddC8c2AdbfpI",
        "colab": {
          "base_uri": "https://localhost:8080/"
        },
        "outputId": "db80df09-acde-49fa-906a-aaa24b1290a1"
      },
      "source": [
        "with open('Hard28_BPP47.txt', 'r') as f:\n",
        "    results = [int(line) for line in f.readlines()]\n",
        "    #print(results)\n",
        "\n",
        "qnt_entradas = results[0]\n",
        "results.remove(results[0])\n",
        "results.remove(1000)\n",
        "#print(results)\n",
        "Inst_7 = results\n",
        "\n",
        "OTM_shuffle(qnt_entradas, Inst_7, 1000)\n",
        "print('\\n')\n",
        "OTM_decresce(qnt_entradas, Inst_7, 1000)"
      ],
      "execution_count": null,
      "outputs": [
        {
          "output_type": "stream",
          "text": [
            "A melhor solução encontrada foi 95\n",
            "Tempo de execução com k = 10 : 0.0364995002746582 segundos\n",
            "\n",
            "\n",
            "A melhor solução encontrada foi 98\n",
            "Tempo de execução: 0.0031371116638183594 segundos\n"
          ],
          "name": "stdout"
        }
      ]
    },
    {
      "cell_type": "code",
      "metadata": {
        "id": "RMRG1hf3bkGb",
        "colab": {
          "base_uri": "https://localhost:8080/"
        },
        "outputId": "8f95b1e2-32a5-4a04-baa6-7f763786c86e"
      },
      "source": [
        "with open('Hard28_BPP119.txt', 'r') as f:\n",
        "    results = [int(line) for line in f.readlines()]\n",
        "    #print(results)\n",
        "\n",
        "qnt_entradas = results[0]\n",
        "results.remove(results[0])\n",
        "results.remove(1000)\n",
        "#print(results)\n",
        "Inst_8 = results\n",
        "\n",
        "OTM_shuffle(qnt_entradas, Inst_8, 1000)\n",
        "print('\\n')\n",
        "OTM_decresce(qnt_entradas, Inst_8, 1000)"
      ],
      "execution_count": null,
      "outputs": [
        {
          "output_type": "stream",
          "text": [
            "A melhor solução encontrada foi 100\n",
            "Tempo de execução com k = 10 : 0.04345989227294922 segundos\n",
            "\n",
            "\n",
            "A melhor solução encontrada foi 107\n",
            "Tempo de execução: 0.0039174556732177734 segundos\n"
          ],
          "name": "stdout"
        }
      ]
    },
    {
      "cell_type": "code",
      "metadata": {
        "id": "Z4lF9PQ_bqMA",
        "colab": {
          "base_uri": "https://localhost:8080/"
        },
        "outputId": "1d391250-ae3e-474e-c7ca-7132fed8860c"
      },
      "source": [
        "with open('Hard28_BPP175.txt', 'r') as f:\n",
        "    results = [int(line) for line in f.readlines()]\n",
        "    #print(results)\n",
        "\n",
        "qnt_entradas = results[0]\n",
        "results.remove(results[0])\n",
        "results.remove(1000)\n",
        "#print(results)\n",
        "Inst_9 = results\n",
        "\n",
        "OTM_shuffle(qnt_entradas, Inst_9, 1000)\n",
        "print('\\n')\n",
        "OTM_decresce(qnt_entradas, Inst_9, 1000)"
      ],
      "execution_count": null,
      "outputs": [
        {
          "output_type": "stream",
          "text": [
            "A melhor solução encontrada foi 111\n",
            "Tempo de execução com k = 10 : 0.04486870765686035 segundos\n",
            "\n",
            "\n",
            "A melhor solução encontrada foi 116\n",
            "Tempo de execução: 0.003928184509277344 segundos\n"
          ],
          "name": "stdout"
        }
      ]
    },
    {
      "cell_type": "code",
      "metadata": {
        "id": "wr2sSPIPbuUN",
        "colab": {
          "base_uri": "https://localhost:8080/"
        },
        "outputId": "0d1c3b4c-e65a-4170-cbb9-13606959e7ec"
      },
      "source": [
        "with open('Hard28_BPP181.txt', 'r') as f:\n",
        "    results = [int(line) for line in f.readlines()]\n",
        "    #print(results)\n",
        "\n",
        "qnt_entradas = results[0]\n",
        "results.remove(results[0])\n",
        "results.remove(1000)\n",
        "#print(results)\n",
        "Inst_10 = results\n",
        "\n",
        "OTM_shuffle(qnt_entradas, Inst_10, 1000)\n",
        "print('\\n')\n",
        "OTM_decresce(qnt_entradas, Inst_10, 1000)"
      ],
      "execution_count": null,
      "outputs": [
        {
          "output_type": "stream",
          "text": [
            "A melhor solução encontrada foi 95\n",
            "Tempo de execução com k = 10 : 0.037174224853515625 segundos\n",
            "\n",
            "\n",
            "A melhor solução encontrada foi 100\n",
            "Tempo de execução: 0.0031697750091552734 segundos\n"
          ],
          "name": "stdout"
        }
      ]
    }
  ]
}